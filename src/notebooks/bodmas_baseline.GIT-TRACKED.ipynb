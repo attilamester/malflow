{
 "cells": [
  {
   "cell_type": "code",
   "execution_count": null,
   "id": "faa1fdd1-ce6e-4837-a4b9-1fd7fe95559b",
   "metadata": {
    "ExecuteTime": {
     "end_time": "2024-04-11T13:17:24.415049Z",
     "start_time": "2024-04-11T13:17:23.423569Z"
    }
   },
   "outputs": [],
   "source": [
    "import itertools\n",
    "import time\n",
    "from typing import Tuple, List\n",
    "\n",
    "import matplotlib.pyplot as plt\n",
    "import numpy as np\n",
    "import pandas as pd\n",
    "from sklearn import svm\n",
    "from sklearn.ensemble import RandomForestClassifier\n",
    "from sklearn.linear_model import LogisticRegression\n",
    "from sklearn.metrics import f1_score, precision_score, recall_score, accuracy_score, balanced_accuracy_score\n",
    "from sklearn.model_selection import train_test_split\n",
    "from sklearn.naive_bayes import MultinomialNB\n",
    "from sklearn.neighbors import KNeighborsClassifier\n",
    "from sklearn.pipeline import make_pipeline\n",
    "from sklearn.preprocessing import LabelEncoder\n",
    "from sklearn.preprocessing import StandardScaler, MinMaxScaler\n",
    "from sklearn.tree import DecisionTreeClassifier\n"
   ]
  },
  {
   "cell_type": "markdown",
   "id": "11e5fd0a-6eaa-4a30-b02d-c7f323a9f0bc",
   "metadata": {},
   "source": [
    "## Declaring constants"
   ]
  },
  {
   "cell_type": "code",
   "execution_count": null,
   "id": "3b32cca2-31a0-43cf-b089-51df4c55b824",
   "metadata": {
    "ExecuteTime": {
     "end_time": "2024-04-11T13:17:27.575902Z",
     "start_time": "2024-04-11T13:17:27.573364Z"
    }
   },
   "outputs": [],
   "source": [
    "BODMAS_METADATA_CSV = \"/opt/work/bd/BODMAS/bodmas_metadata.csv\"\n",
    "BODMAS_CATEGORY_CSV = \"/opt/work/bd/BODMAS/bodmas_malware_category.csv\"\n",
    "BODMAS_FEATURE_VECTORS_NPZ = \"/opt/work/bd/BODMAS/bodmas_feature_vectors.npz/bodmas.npz\""
   ]
  },
  {
   "cell_type": "markdown",
   "id": "664174ad-cc7a-4002-9f30-e0c9991bd418",
   "metadata": {},
   "source": [
    "## Defining utility functions"
   ]
  },
  {
   "cell_type": "code",
   "execution_count": null,
   "id": "2c39a112-ea78-4303-85c8-c82d490af88f",
   "metadata": {
    "ExecuteTime": {
     "end_time": "2024-04-11T13:17:28.585236Z",
     "start_time": "2024-04-11T13:17:28.573680Z"
    }
   },
   "outputs": [],
   "source": [
    "def read_bodmas_metadata() -> pd.DataFrame:\n",
    "    df = pd.read_csv(BODMAS_METADATA_CSV)\n",
    "    df.rename(columns={\"sha\": \"sha256\"}, inplace=True)\n",
    "    df.set_index(\"sha256\", inplace=True)\n",
    "    return df\n",
    "\n",
    "\n",
    "def read_bodmas_category() -> pd.DataFrame:\n",
    "    return pd.read_csv(BODMAS_CATEGORY_CSV, index_col=\"sha256\")\n",
    "\n",
    "\n",
    "def read_bodmas_features() -> Tuple[np.ndarray, np.ndarray]:\n",
    "    npz = np.load(BODMAS_FEATURE_VECTORS_NPZ)\n",
    "    return npz[\"X\"].astype(float), npz[\"y\"]\n",
    "\n",
    "\n",
    "def display_df(df: pd.DataFrame, title: str = None):\n",
    "    print(f\"=== DataFrame {f'<{title}>' if title else ''} shape: {df.shape}\")\n",
    "    return df\n",
    "\n",
    "\n",
    "def display_np(np_array: np.ndarray, title: str = None):\n",
    "    print(f\"=== np.ndarray {f'<{title}>' if title else ''} shape: {np_array.shape}\")\n",
    "    return np_array\n",
    "\n",
    "\n",
    "def display_df_columns(df: pd.DataFrame, column_name: str, top_k: int = 10, log_scale: bool = False):\n",
    "    values = df[column_name].value_counts().to_frame().head(top_k)\n",
    "    plt.figure(figsize=(20, 4))\n",
    "    plt.plot(values, marker='o', linestyle='dashed', linewidth=1, markersize=12)\n",
    "    if log_scale:\n",
    "        plt.yscale('log')\n",
    "    plt.xticks(rotation=45)\n",
    "    plt.show()\n",
    "    return values\n",
    "\n",
    "\n",
    "def evaluate_predictions(labels_true, labels_pred):\n",
    "    f1_micro = f1_score(labels_true, labels_pred, average=\"micro\")\n",
    "    f1_macro = f1_score(labels_true, labels_pred, average=\"macro\")\n",
    "\n",
    "    acc = accuracy_score(labels_true, labels_pred)\n",
    "    bacc = balanced_accuracy_score(labels_true, labels_pred)\n",
    "    prec_micro = precision_score(labels_true, labels_pred, average=\"micro\")\n",
    "    prec_macro = precision_score(labels_true, labels_pred, average=\"macro\")\n",
    "    rec_micro = recall_score(labels_true, labels_pred, average=\"micro\")\n",
    "    rec_macro = recall_score(labels_true, labels_pred, average=\"macro\")\n",
    "\n",
    "    metrics = f1_micro, f1_macro, acc, bacc, prec_micro, prec_macro, rec_micro, rec_macro, f1_micro, f1_macro\n",
    "    return tuple([round(m, 4) for m in metrics])\n",
    "\n",
    "\n",
    "pd.set_option('display.max_columns', None)\n",
    "pd.set_option('display.width', None)\n",
    "pd.set_option('display.expand_frame_repr', False)"
   ]
  },
  {
   "cell_type": "markdown",
   "id": "64a6baf5-f47c-41f6-87fd-7e1dd3e8e916",
   "metadata": {},
   "source": [
    "## Declaring globals"
   ]
  },
  {
   "cell_type": "code",
   "execution_count": null,
   "id": "74b99d63-7159-4c09-ac08-fc88241bb0d2",
   "metadata": {
    "ExecuteTime": {
     "end_time": "2024-04-11T13:23:03.963771Z",
     "start_time": "2024-04-11T13:17:29.973493Z"
    }
   },
   "outputs": [],
   "source": [
    "BODMAS_METADATA = read_bodmas_metadata()\n",
    "BODMAS_CATEGORY = read_bodmas_category()\n",
    "BODMAS_FEATURES_X, BODMAS_FEATURES_y = read_bodmas_features()"
   ]
  },
  {
   "cell_type": "markdown",
   "id": "5c76e967f833c1cf",
   "metadata": {},
   "source": [
    "## BODMAS Category info"
   ]
  },
  {
   "cell_type": "code",
   "execution_count": null,
   "id": "5acec401a18a7e9b",
   "metadata": {
    "ExecuteTime": {
     "end_time": "2024-04-11T13:23:04.222636Z",
     "start_time": "2024-04-11T13:23:04.181886Z"
    }
   },
   "outputs": [],
   "source": [
    "display_df(BODMAS_CATEGORY, \"Bodmas category info\")"
   ]
  },
  {
   "cell_type": "code",
   "execution_count": null,
   "id": "f3418085ce3931c4",
   "metadata": {
    "ExecuteTime": {
     "end_time": "2024-04-11T13:23:10.042389Z",
     "start_time": "2024-04-11T13:23:09.928682Z"
    }
   },
   "outputs": [],
   "source": [
    "display_df_columns(BODMAS_CATEGORY, \"category\", top_k=100, log_scale=False)"
   ]
  },
  {
   "cell_type": "markdown",
   "id": "81bca7fdaedaac5f",
   "metadata": {},
   "source": [
    "## BODMAS Metadata info"
   ]
  },
  {
   "cell_type": "code",
   "execution_count": null,
   "id": "6d4965543b812793",
   "metadata": {
    "ExecuteTime": {
     "end_time": "2024-04-11T13:23:11.905309Z",
     "start_time": "2024-04-11T13:23:11.898512Z"
    }
   },
   "outputs": [],
   "source": [
    "display_df(BODMAS_METADATA, \"Bodmas metadata\")"
   ]
  },
  {
   "cell_type": "code",
   "execution_count": null,
   "id": "3ed7bf664f61986d",
   "metadata": {
    "ExecuteTime": {
     "end_time": "2024-04-11T13:23:14.205835Z",
     "start_time": "2024-04-11T13:23:12.132937Z"
    }
   },
   "outputs": [],
   "source": [
    "display_df_columns(BODMAS_METADATA, \"family\", top_k=100, log_scale=True)\n",
    "display_df_columns(BODMAS_METADATA, \"family\", top_k=10, log_scale=False)"
   ]
  },
  {
   "cell_type": "markdown",
   "id": "7e60ee703ce84350",
   "metadata": {},
   "source": [
    "## Joining metadata with category + filtering\n",
    "\n",
    "* setting NaN family/category values to \"benign\"\n",
    "* setting single family values to \"other\" "
   ]
  },
  {
   "cell_type": "code",
   "execution_count": null,
   "id": "5520f060a4fe2b3a",
   "metadata": {
    "ExecuteTime": {
     "end_time": "2024-04-11T13:23:14.503770Z",
     "start_time": "2024-04-11T13:23:14.207385Z"
    }
   },
   "outputs": [],
   "source": [
    "BODMAS_METADATA = BODMAS_METADATA.merge(BODMAS_CATEGORY, on=\"sha256\", how=\"left\")\n",
    "BODMAS_METADATA[\"family\"] = BODMAS_METADATA[\"family\"].fillna(\"benign\")\n",
    "BODMAS_METADATA[\"category\"] = BODMAS_METADATA[\"category\"].fillna(\"benign\")\n",
    "\n",
    "family_value_counts = BODMAS_METADATA['family'].value_counts()\n",
    "single_occurrence_families = family_value_counts[family_value_counts == 1].index\n",
    "BODMAS_METADATA['family'] = BODMAS_METADATA['family'].apply(lambda x: 'other' if x in single_occurrence_families else x)\n",
    "\n",
    "display_df(BODMAS_METADATA, \"Bodmas metadata cobmined with categories\")"
   ]
  },
  {
   "cell_type": "markdown",
   "id": "2c8baf42dfbb24ea",
   "metadata": {},
   "source": [
    "## Label encoding on \"family\" and \"category\""
   ]
  },
  {
   "cell_type": "code",
   "execution_count": null,
   "id": "83cb4abc8117f96a",
   "metadata": {
    "ExecuteTime": {
     "end_time": "2024-04-11T13:23:14.572088Z",
     "start_time": "2024-04-11T13:23:14.544438Z"
    }
   },
   "outputs": [],
   "source": [
    "label_encoder_family = LabelEncoder()\n",
    "label_encoder_family.fit(BODMAS_METADATA['family'])\n",
    "label_encoder_category = LabelEncoder()\n",
    "label_encoder_category.fit(BODMAS_METADATA['category'])\n",
    "\n",
    "BODMAS_METADATA['family'] = label_encoder_family.transform(BODMAS_METADATA['family'])\n",
    "BODMAS_METADATA['category'] = label_encoder_category.transform(BODMAS_METADATA['category'])"
   ]
  },
  {
   "cell_type": "code",
   "execution_count": null,
   "id": "e1f9ddaf23c6d8d2",
   "metadata": {
    "ExecuteTime": {
     "end_time": "2024-04-11T13:23:15.461990Z",
     "start_time": "2024-04-11T13:23:15.455568Z"
    }
   },
   "outputs": [],
   "source": [
    "print(f\"Encoded category values: {BODMAS_METADATA['category'].value_counts()}\")\n",
    "print(f\"Encoded family values: {BODMAS_METADATA['family'].value_counts()}\")"
   ]
  },
  {
   "cell_type": "markdown",
   "id": "fc6bbd749e7919c3",
   "metadata": {},
   "source": [
    "## BODMAS npz data: **X** `(130k x 2k features / sample)` and **y** `(130k x 1 benign/malign)`"
   ]
  },
  {
   "cell_type": "code",
   "execution_count": null,
   "id": "fb666543-d11f-4966-985e-6e3a60ec1896",
   "metadata": {
    "ExecuteTime": {
     "end_time": "2024-04-11T13:23:17.568981Z",
     "start_time": "2024-04-11T13:23:17.565082Z"
    }
   },
   "outputs": [],
   "source": [
    "display_np(BODMAS_FEATURES_X, \"Bodmas features X\")"
   ]
  },
  {
   "cell_type": "code",
   "execution_count": null,
   "id": "89bc41d984856c22",
   "metadata": {},
   "outputs": [],
   "source": [
    "display_np(BODMAS_FEATURES_y, \"Bodmas features y\")"
   ]
  },
  {
   "cell_type": "code",
   "execution_count": null,
   "id": "d2baa8bef9ba7ef9",
   "metadata": {
    "ExecuteTime": {
     "end_time": "2024-04-11T13:23:20.153963Z",
     "start_time": "2024-04-11T13:23:20.138112Z"
    }
   },
   "outputs": [],
   "source": [
    "def reduce_dataset(X: np.ndarray, y: np.ndarray, n_samples):\n",
    "    if n_samples is None or n_samples == 0:\n",
    "        return X, y\n",
    "    # combined = pd.concat([X, y], axis=1)\n",
    "    combined = np.hstack((X, y.reshape(X.shape[0], 1)))\n",
    "    np.random.shuffle(combined)\n",
    "    combined = combined[:n_samples]\n",
    "    X_sampled = combined[:, :-1]\n",
    "    y_sampled = combined[:, -1]\n",
    "    return X_sampled, y_sampled\n",
    "\n",
    "\n",
    "def filter_dataset_having_min_class_size(X: np.ndarray, y: np.ndarray, df_series: pd.Series, n: int):\n",
    "    # unique_values, value_counts = np.unique(y, return_counts=True)\n",
    "    value_counts = df_series.value_counts()\n",
    "    filtered_indices = np.array([], dtype=np.int64)\n",
    "    for value, count in value_counts.items():\n",
    "        if count >= n:\n",
    "            indices = np.where(df_series == value)[0]\n",
    "            filtered_indices = np.append(filtered_indices, indices)\n",
    "\n",
    "    X_filtered = X[filtered_indices]\n",
    "    y_filtered = y[filtered_indices]\n",
    "    return X_filtered, y_filtered, df_series.iloc[filtered_indices]\n",
    "\n",
    "\n",
    "def train_model(m, scaler, X_train, y_train, X_test, y_test) -> Tuple[float, List[float]]:\n",
    "    print(\n",
    "        f\"Training on {len(y_train)} train samples, model: {m.__class__.__name__}, scaler: {scaler.__class__.__name__ if scaler else '-'}\")\n",
    "    if scaler is None:\n",
    "        model = m\n",
    "    else:\n",
    "        model = make_pipeline(scaler, m)\n",
    "\n",
    "    try:\n",
    "        ts = time.perf_counter()\n",
    "        model.fit(X_train, y_train)\n",
    "        dt = time.perf_counter() - ts\n",
    "        pred = model.predict(X_test)\n",
    "        metrics = evaluate_predictions(y_test, pred)\n",
    "    except:\n",
    "        dt = 0\n",
    "        metrics = [0] * 10\n",
    "    return round(dt, 1), metrics"
   ]
  },
  {
   "cell_type": "markdown",
   "id": "c35f471d3462693b",
   "metadata": {},
   "source": [
    "## Binary classification\n",
    "\n",
    "```\n",
    "# y = BODMAS_FEATURES_y # binary classification\n",
    "# y = BODMAS_METADATA['family'].values # multi-class\n",
    "# y = BODMAS_METADATA['category'].values # multi-class - on easy mode since categories are much fewer and more balanced\n",
    "```"
   ]
  },
  {
   "cell_type": "code",
   "execution_count": null,
   "id": "fed487e3934f5478",
   "metadata": {
    "ExecuteTime": {
     "end_time": "2024-04-11T13:23:20.724136Z",
     "start_time": "2024-04-11T13:23:20.721556Z"
    }
   },
   "outputs": [],
   "source": [
    "import warnings\n",
    "warnings.filterwarnings('ignore')"
   ]
  },
  {
   "cell_type": "code",
   "execution_count": null,
   "id": "189b8dcaf59e22ca",
   "metadata": {
    "ExecuteTime": {
     "end_time": "2024-04-11T13:24:16.740122Z",
     "start_time": "2024-04-11T13:24:09.812300Z"
    }
   },
   "outputs": [],
   "source": [
    "scalers = [None, StandardScaler(), MinMaxScaler()]\n",
    "models = [LogisticRegression(), KNeighborsClassifier(), DecisionTreeClassifier(), svm.SVC(), RandomForestClassifier(),\n",
    "          MultinomialNB()]\n",
    "results = []\n",
    "\n",
    "for n_samples in [100, 1000]:\n",
    "    X_sampled, y_sampled = reduce_dataset(BODMAS_FEATURES_X, BODMAS_FEATURES_y, n_samples)\n",
    "    X_train, X_test, y_train, y_test = train_test_split(X_sampled, y_sampled, test_size=0.25, stratify=y_sampled,\n",
    "                                                        random_state=42)\n",
    "    for m, scaler in itertools.product(models, scalers):\n",
    "        dt, metrics = train_model(m, scaler, X_train, y_train, X_test, y_test)\n",
    "        results.append([m.__class__.__name__, scaler.__class__.__name__ if scaler else '-', n_samples, dt, *metrics])\n",
    "\n",
    "df_results = pd.DataFrame(results,\n",
    "                          columns=[\"model\", \"scaler\", \"n_samples\", \"dt (s)\", \"f1_micro\", \"f1_macro\", \"acc\", \"bacc\",\n",
    "                                   \"prec_micro\",\n",
    "                                   \"prec_macro\", \"rec_micro\", \"rec_macro\", \"f1_micro\", \"f1_macro\"])\n",
    "display_df(df_results)"
   ]
  },
  {
   "cell_type": "markdown",
   "id": "7b1958844d48ecb0",
   "metadata": {},
   "source": [
    "## Multiclass classification -- family"
   ]
  },
  {
   "cell_type": "code",
   "execution_count": null,
   "id": "7b3b22da6511b6fe",
   "metadata": {
    "ExecuteTime": {
     "end_time": "2024-04-11T13:26:27.027345Z",
     "start_time": "2024-04-11T13:25:03.624721Z"
    }
   },
   "outputs": [],
   "source": [
    "# scalers = [None, StandardScaler(), MinMaxScaler()]\n",
    "scalers = [StandardScaler()]\n",
    "# models = [LogisticRegression(), KNeighborsClassifier(), DecisionTreeClassifier(), svm.SVC(), RandomForestClassifier(),\n",
    "#           MultinomialNB()]\n",
    "models = [KNeighborsClassifier()]\n",
    "results = []\n",
    "\n",
    "for min_class_size in [2000]:\n",
    "    X_sampled, _, df_series_families = filter_dataset_having_min_class_size(BODMAS_FEATURES_X, BODMAS_FEATURES_y,\n",
    "                                                                            BODMAS_METADATA['family'], min_class_size)\n",
    "    X_train, X_test, y_train, y_test = train_test_split(X_sampled, df_series_families, test_size=0.25,\n",
    "                                                        stratify=df_series_families,\n",
    "                                                        random_state=42)\n",
    "    print(\n",
    "        f\"Training on {len(df_series_families)} samples with min class size {min_class_size} | unique classes: {len(np.unique(df_series_families))}\")\n",
    "    for m, scaler in itertools.product(models, scalers):\n",
    "        dt, metrics = train_model(m, scaler, X_train, y_train, X_test, y_test)\n",
    "        results.append([m.__class__.__name__, scaler.__class__.__name__ if scaler else '-', n_samples, dt, *metrics])\n",
    "\n",
    "df_results = pd.DataFrame(results,\n",
    "                          columns=[\"model\", \"scaler\", \"n_samples\", \"dt (s)\", \"f1_micro\", \"f1_macro\", \"acc\", \"bacc\",\n",
    "                                   \"prec_micro\",\n",
    "                                   \"prec_macro\", \"rec_micro\", \"rec_macro\", \"f1_micro\", \"f1_macro\"])\n",
    "display_df(df_results)"
   ]
  },
  {
   "cell_type": "markdown",
   "id": "1e5fb17d25a2b720",
   "metadata": {},
   "source": []
  },
  {
   "cell_type": "markdown",
   "id": "942ed8cde8c3611b",
   "metadata": {},
   "source": []
  },
  {
   "cell_type": "code",
   "execution_count": null,
   "id": "9b3e4948324f84e8",
   "metadata": {},
   "outputs": [],
   "source": [
    "# TODO\n",
    "# hb = HungaBungaClassifier(brain=True)\n",
    "# hb.fit(x=X_train, y=y_train)\n",
    "# automl = autosklearn.classification.AutoSklearnClassifier()\n",
    "# automl.fit(X_train, y_train)"
   ]
  }
 ],
 "metadata": {
  "kernelspec": {
   "display_name": "Python 3 (ipykernel)",
   "language": "python",
   "name": "python3"
  },
  "language_info": {
   "codemirror_mode": {
    "name": "ipython",
    "version": 3
   },
   "file_extension": ".py",
   "mimetype": "text/x-python",
   "name": "python",
   "nbconvert_exporter": "python",
   "pygments_lexer": "ipython3",
   "version": "3.8.20"
  },
  "vscode": {
   "interpreter": {
    "hash": "916dbcbb3f70747c44a77c7bcd40155683ae19c65e1c03b4aa3499c5328201f1"
   }
  }
 },
 "nbformat": 4,
 "nbformat_minor": 5
}
